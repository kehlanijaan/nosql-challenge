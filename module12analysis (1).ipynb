{
 "cells": [
  {
   "cell_type": "markdown",
   "id": "3985ef51-1672-4cc4-9d0f-813ad54f4931",
   "metadata": {},
   "source": [
    "The UK Food Standards Agency evaluates various establishments across the United Kingdom, and gives them a food hygiene rating. You've been contracted by the editors of a food magazine, Eat Safe, Love, to evaluate some of the ratings data in order to help their journalists and food critics decide where to focus future articles."
   ]
  },
  {
   "cell_type": "code",
   "execution_count": null,
   "id": "ce10f004-f12b-4986-ba94-91b009ca27d1",
   "metadata": {},
   "outputs": [],
   "source": [
    "#Import dependecies \n",
    "import pymongo \n",
    "import pymongo import MongoClient \n",
    "from pymongo import pprint \n",
    "import pandas as pd\n",
    "import matplotlib.pyplot as plt\n",
    "\n",
    "#Create an instance of MongoClient\n",
    "mongo = MongoClient(port=27017)\n",
    "\n",
    "#Assign the 'uk_food' database to a variable name\n",
    "db = mongo['uk_food']"
   ]
  },
  {
   "cell_type": "code",
   "execution_count": null,
   "id": "1bc6df73-af9c-4483-abf6-379724c8bca2",
   "metadata": {},
   "outputs": [],
   "source": [
    "#Review the collections in the database\n",
    "#assign the collection to a variable\n",
    "establishments = db['establishments']"
   ]
  },
  {
   "cell_type": "markdown",
   "id": "770685df-a02b-42c0-a1ed-9c7b15fe031f",
   "metadata": {},
   "source": [
    "\n",
    "\r\n",
    "The magazine editors have some requested modifications for the database before you can perform any queries or analysis for them. Make the following changes to the establishments collection:\r\n",
    "\r\n",
    "An exciting new halal restaurant just opened in Greenwich, but hasn't been rated yet. The magazine has asked you to include it in your analysis. Add the following information to the database:"
   ]
  },
  {
   "cell_type": "code",
   "execution_count": 1,
   "id": "5e0fa14e-e71a-473e-b394-311e44c24584",
   "metadata": {},
   "outputs": [],
   "source": [
    "# Import dependencies\n",
    "from pymongo import MongoClient\n",
    "from pprint import pprint\n",
    "import pandas as pd"
   ]
  },
  {
   "cell_type": "code",
   "execution_count": 2,
   "id": "4b160dab-845b-497f-b019-b5ae29ac7796",
   "metadata": {},
   "outputs": [],
   "source": [
    "# Create an instance of MongoClient\n",
    "mongo = MongoClient(port=27017)"
   ]
  },
  {
   "cell_type": "code",
   "execution_count": 3,
   "id": "b0e25832-0f58-4f99-bc0c-c73d46f26dd1",
   "metadata": {},
   "outputs": [],
   "source": [
    "# assign the uk_food database to a variable name\n",
    "db = mongo['uk_food']"
   ]
  },
  {
   "cell_type": "code",
   "execution_count": null,
   "id": "119f185f-6538-4be5-a638-4fe6533ddad0",
   "metadata": {},
   "outputs": [],
   "source": [
    "# review the collections in our database\n",
    "pprint(db.list_collection_names())"
   ]
  },
  {
   "cell_type": "code",
   "execution_count": null,
   "id": "8ae4998a-50b7-47c9-8b7b-dc62a1b6ec21",
   "metadata": {},
   "outputs": [],
   "source": [
    "# assign the collection to a variable\n",
    "est = db['est']"
   ]
  },
  {
   "cell_type": "code",
   "execution_count": null,
   "id": "3a27a4fc-a0cc-4d40-8199-320e0208f8d8",
   "metadata": {},
   "outputs": [],
   "source": [
    "pprint(db.est.find_one())"
   ]
  },
  {
   "cell_type": "code",
   "execution_count": null,
   "id": "72f2746d-5bf2-43c2-a55a-6105cc2c44dd",
   "metadata": {},
   "outputs": [],
   "source": [
    "# Find the establishments with a hygiene score of 20\n",
    "query = {'scores.Hygiene': 20}\n",
    "\n",
    "# Use count_documents to display the number of documents in the result\n",
    "print(f\"There are {est.count_documents(query)} establishments with a hygiene score of 20\")\n",
    "# Display the first document in the results using pprint\n",
    "#hyg = est(query)\n",
    "pprint(est.find_one(query))"
   ]
  },
  {
   "cell_type": "code",
   "execution_count": null,
   "id": "c9e521e4-e5a7-4c14-a73d-f807d024e026",
   "metadata": {},
   "outputs": [],
   "source": [
    "# Convert the result to a Pandas DataFrame\n",
    "hygdf = pd.DataFrame(est.find(query))\n",
    "# Display the number of rows in the DataFrame\n",
    "print(\"The number of rows is\", len(hygdf))\n",
    "# Display the first 10 rows of the DataFrame\n",
    "hygdf.head(10)# Convert the result to a Pandas DataFrame\n",
    "hygdf = pd.DataFrame(est.find(query))\n",
    "# Display the number of rows in the DataFrame\n",
    "print(\"The number of rows is\", len(hygdf))\n",
    "# Display the first 10 rows of the DataFrame\n",
    "hygdf.head(10)"
   ]
  },
  {
   "cell_type": "code",
   "execution_count": null,
   "id": "5ace4681-ecd4-4f76-8b0e-58b3409458ac",
   "metadata": {},
   "outputs": [],
   "source": [
    "# Find the establishments with London as the Local Authority and has a RatingValue greater than or equal to 4.\n",
    "query2 = {'LocalAuthorityName': {'$regex': 'London'}\n",
    "print(f\"There are {est.count_documents(query2)} establishments in London with a rating of 4 or higher\")\n",
    "# Display the first document in the results using pprint\n",
    "pprint(est.find_one(query2))\n",
    "#londonest = est.find(query2)\n",
    "#ratelondon = londonest.drop({'RatingValue': {'$lt': '4'}})\n",
    "#pprint(est.find_one(ratelondon))"
   ]
  },
  {
   "cell_type": "code",
   "execution_count": null,
   "id": "d3336cd4-4c43-46ae-ae83-9ac58bb0dcd2",
   "metadata": {},
   "outputs": [],
   "source": [
    "# Convert the result to a Pandas DataFrame\n",
    "londondf = pd.DataFrame(est.find(query2))\n",
    "# Display the number of rows in the DataFrame\n",
    "print(f\"The numbers of rows in the Dataframe is {len(londondf)}\")\n",
    "# Display the first 10 rows of the DataFrame\n",
    "londondf.head(10)"
   ]
  },
  {
   "cell_type": "code",
   "execution_count": null,
   "id": "a42f6d90-89ab-4d03-8f4c-3e6ee1cc5884",
   "metadata": {},
   "outputs": [],
   "source": [
    "# Search within 0.01 degree on either side of the latitude and longitude.\n",
    "# Rating value must equal 5\n",
    "# Sort by hygiene score\n",
    "\n",
    "degree_search = 0.01\n",
    "latitude = 51.49014200\n",
    "longitude = 0.08384000\n",
    "\n",
    "\n",
    "query = {'geocode.latitude': {'$gt': latitude - degree_search, '$lte': latitude + degree_search},\n",
    "         'geocode.longitude': {'$gt': longitude - degree_search, '$lte': longitude + degree_search},\n",
    "         'RatingValue': 5\n",
    "        }\n",
    "sort =  [('scores.Hygiene', 1)]\n",
    "\n",
    "# Print the results\n",
    "result = list(est.find(query).sort(sort).limit(5))\n",
    "pprint(result)"
   ]
  },
  {
   "cell_type": "code",
   "execution_count": null,
   "id": "7e62e611-2dfa-4bdd-837d-f4a818a7c34c",
   "metadata": {},
   "outputs": [],
   "source": [
    "# Convert result to Pandas DataFrame\n",
    "fivestar = pd.DataFrame(result)\n",
    "fivestar.head()"
   ]
  },
  {
   "cell_type": "code",
   "execution_count": null,
   "id": "f4a7aba0-ea7e-4ac9-b131-46aa9faa2326",
   "metadata": {},
   "outputs": [],
   "source": [
    "# Create a pipeline that: \n",
    "# 1. Matches establishments with a hygiene score of 0\n",
    "matchpipe = {'$match': {'scores.Hygiene': 0}}\n",
    "# 2. Groups the matches by Local Authority\n",
    "grouppipe = {'$group': {'_id': '$LocalAuthorityName', 'count': {'$sum': 1}}}\n",
    "# 3. Sorts the matches from highest to lowest\n",
    "sortpipe = {'$sort': {'count': -1}}\n",
    "\n",
    "pipeline = [matchpipe, grouppipe, sortpipe]\n",
    "resultpipe = list(est.aggregate(pipeline))\n",
    "# Print the number of documents in the result\n",
    "print(f\"Number of locations with est. that have a Hygiene score of 0 is {len(resultpipe)}\")\n",
    "# Print the first 10 results\n",
    "pprint(resultpipe[:10])"
   ]
  },
  {
   "cell_type": "code",
   "execution_count": null,
   "id": "36d3ae0f-9101-4c6a-b577-d32fc2a0fdd1",
   "metadata": {},
   "outputs": [],
   "source": []
  }
 ],
 "metadata": {
  "kernelspec": {
   "display_name": "my-python3-kernel",
   "language": "python",
   "name": "my-python3-kernel"
  },
  "language_info": {
   "codemirror_mode": {
    "name": "ipython",
    "version": 3
   },
   "file_extension": ".py",
   "mimetype": "text/x-python",
   "name": "python",
   "nbconvert_exporter": "python",
   "pygments_lexer": "ipython3",
   "version": "3.11.5"
  }
 },
 "nbformat": 4,
 "nbformat_minor": 5
}
